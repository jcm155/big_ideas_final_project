{
 "cells": [
  {
   "cell_type": "markdown",
   "metadata": {},
   "source": [
    "## Final Report\n",
    "\n",
    "It is best to think about your final project as a data-driven report. You will need to put everything into a Jupyter notebook with the following structure:\n",
    "\n",
    "* **Introduction:** Introduce the project, your approach, talk about the process of how you came up with the metric and some alternatives you may have explored.\n",
    "* **The Metric:** Describe your metric, what features are you measuring. What datasets  are you using?\n",
    "* **The Best Neighborhood:** Apply the metric from the previous section to determine the best neighborhood in Pittsburgh. Beyond just executing code, provide narrative about why you think this is the best neighborhood. Incorporate a data visualization, perhaps to rank all of the neighborhoods or show a neighborhood’s best-ness over time. The key is to make a data driven argument.\n",
    "* **Conclusion:** Reflect on how the data driven determination of “best neighborhood” is the same or different from your personal favorite neighborhood. Each member of the group should write their own response to this.\n",
    "\n",
    "### Tips\n",
    "\n",
    "* Make this fun! Don’t make this harder than it needs to be. You define your metrics, so you are entirely free to pick a metric that is easy to calculate, but reveals something fun about Pittsburgh. You can also be as fancy as you want, and if you want to do something big and impressive, go for it!\n",
    "* Show your work, but not all of it. When working on a project, I often have a couple sets of notebooks. One is a set of working notebooks where I do my data exploration, hack on the code, and go down wrong paths. When I finally am able to pull together the code that generates the result I want, I move just that code into my “final draft.” I only want to see the data cleaning, transformation, analysis, and visualization associated with the specific argument you are making.\n"
   ]
  },
  {
   "cell_type": "markdown",
   "metadata": {},
   "source": []
  },
  {
   "cell_type": "markdown",
   "metadata": {},
   "source": [
    "**INTRODUCTION**\n",
    "\n",
    "Pittsburgh has many neighborhoods. The question is then asked, which is the best one to live in? Which one of Pittsburgh's many neighborhoods is leads to the best quality of life. We chose to find the least disasterous neighborhood in regards to arrests and fires per capita, due to the varying size of each Pittsburgh neighborhood. Before coming to the conclusion to include population, we were originally going to include crash records as another \"disaster\" that can occur in a neighborhood.\n",
    "\n",
    "**THE METRIC**\n",
    "\n",
    "This led us to believe that safety created the best neighborhood in Pittsburgh. Using data from arrest records and fire incident records, we looked at the frequency per capita they occurred within each neighborhood in Pittsburgh. The fewer records of arrests and fires created a higher safety ranking in proportion to population of the neighborhood."
   ]
  },
  {
   "cell_type": "markdown",
   "metadata": {},
   "source": [
    "**THE BEST NEIGHBORHOOD**"
   ]
  },
  {
   "cell_type": "markdown",
   "metadata": {},
   "source": [
    "**CONCLUSION**\n",
    "\n",
    "*Josh*\n",
    "\n",
    "For our metric, we chose safety of the neighborhood, which we represented as the proportion of fires and arrests to population. According to our 'safety score', Squirrel Hill North is the best neighborhood in Pittsburgh, due to its extremely high safety score, showing a low amount of crimes and fires proportional to its population. This differs from my personal favorite, as I feel that Shadyside is the best neighborhood in Pittsburgh because of its beautiful houses, options for dining, and general look and feel of the area. Even though it's right next to the hustle and bustle of Oakland, it feels like a different world. The houses are a good size and the streets are beautiful. Shadyside is the 14th safest neighborhood in Pittsburgh, which still is an extremely safe neighborhood, and I feel that the overall feel of Shadyside makes it the best neighborhood in Pittsburgh.\n",
    "\n",
    "*Melanie*\n",
    "With the 'Safety Score' metric, the findings show Squirrel Hill North as being the best neighborhood to live in due to its low fire and arrest incidents proportional to the population. My personal favorite neighborhood is Squirrel Hill South, which ranks 7th according to the Safety Scoring metric. Squirrel Hill South ranks similarly to Squirrel Hill North as there are only 6 neighborhoods separating them in rank, as well as the fact that they are both in the top ten according to our safety metric. While Squirrel Hill South is safe contributes to the fact that is my personal favorite neighborhood. I also appreciate the convenience to Squirrel Hill South from Oakland and the variety of shops and people that live there. The residential areas are gorgeous to walk through, with beautiful homes and some yard space. Murray and Forbes provide con\n",
    "\n",
    "*Andrew*\n"
   ]
  },
  {
   "cell_type": "code",
   "execution_count": null,
   "metadata": {},
   "outputs": [],
   "source": []
  }
 ],
 "metadata": {
  "kernelspec": {
   "display_name": "Python 3.7",
   "language": "python",
   "name": "python3"
  },
  "language_info": {
   "codemirror_mode": {
    "name": "ipython",
    "version": 3
   },
   "file_extension": ".py",
   "mimetype": "text/x-python",
   "name": "python",
   "nbconvert_exporter": "python",
   "pygments_lexer": "ipython3",
   "version": "3.7.0"
  }
 },
 "nbformat": 4,
 "nbformat_minor": 4
}
